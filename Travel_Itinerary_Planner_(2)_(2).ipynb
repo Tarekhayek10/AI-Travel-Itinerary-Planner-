{
  "cells": [
    {
      "cell_type": "markdown",
      "metadata": {
        "id": "-hRQW93tkgJE"
      },
      "source": [
        "Key Components\n",
        "1. **StateGraph**: The core of our application, defining the flow of our Travel Planner.\n",
        "2. **PlannerState**: A custom type representing the state of our planning process.\n",
        "3. **Node Functions**: Individual steps in our planning process (input_city, input_interests, create_itinerary).\n",
        "4. **LLM Integration**: Utilizing a language model to generate the final itinerary.\n",
        "\n"
      ]
    },
    {
      "cell_type": "code",
      "execution_count": 1,
      "metadata": {
        "colab": {
          "base_uri": "https://localhost:8080/"
        },
        "id": "17e4ZebHsPR1",
        "outputId": "679b2836-d678-428d-9bec-aa0ae1225f48"
      },
      "outputs": [
        {
          "name": "stdout",
          "output_type": "stream",
          "text": [
            "Requirement already satisfied: langchain in /usr/local/lib/python3.11/dist-packages (0.3.25)\n",
            "Requirement already satisfied: langchain_core in /usr/local/lib/python3.11/dist-packages (0.3.63)\n",
            "Collecting langchain_groq\n",
            "  Downloading langchain_groq-0.3.2-py3-none-any.whl.metadata (2.6 kB)\n",
            "Collecting langchain_community\n",
            "  Downloading langchain_community-0.3.24-py3-none-any.whl.metadata (2.5 kB)\n",
            "Collecting langgraph\n",
            "  Downloading langgraph-0.4.8-py3-none-any.whl.metadata (6.8 kB)\n",
            "Requirement already satisfied: langchain-text-splitters<1.0.0,>=0.3.8 in /usr/local/lib/python3.11/dist-packages (from langchain) (0.3.8)\n",
            "Requirement already satisfied: langsmith<0.4,>=0.1.17 in /usr/local/lib/python3.11/dist-packages (from langchain) (0.3.43)\n",
            "Requirement already satisfied: pydantic<3.0.0,>=2.7.4 in /usr/local/lib/python3.11/dist-packages (from langchain) (2.11.5)\n",
            "Requirement already satisfied: SQLAlchemy<3,>=1.4 in /usr/local/lib/python3.11/dist-packages (from langchain) (2.0.41)\n",
            "Requirement already satisfied: requests<3,>=2 in /usr/local/lib/python3.11/dist-packages (from langchain) (2.32.3)\n",
            "Requirement already satisfied: PyYAML>=5.3 in /usr/local/lib/python3.11/dist-packages (from langchain) (6.0.2)\n",
            "Requirement already satisfied: tenacity!=8.4.0,<10.0.0,>=8.1.0 in /usr/local/lib/python3.11/dist-packages (from langchain_core) (9.1.2)\n",
            "Requirement already satisfied: jsonpatch<2.0,>=1.33 in /usr/local/lib/python3.11/dist-packages (from langchain_core) (1.33)\n",
            "Requirement already satisfied: packaging<25,>=23.2 in /usr/local/lib/python3.11/dist-packages (from langchain_core) (24.2)\n",
            "Requirement already satisfied: typing-extensions>=4.7 in /usr/local/lib/python3.11/dist-packages (from langchain_core) (4.13.2)\n",
            "Collecting groq<1,>=0.4.1 (from langchain_groq)\n",
            "  Downloading groq-0.26.0-py3-none-any.whl.metadata (15 kB)\n",
            "Requirement already satisfied: aiohttp<4.0.0,>=3.8.3 in /usr/local/lib/python3.11/dist-packages (from langchain_community) (3.11.15)\n",
            "Collecting dataclasses-json<0.7,>=0.5.7 (from langchain_community)\n",
            "  Downloading dataclasses_json-0.6.7-py3-none-any.whl.metadata (25 kB)\n",
            "Collecting pydantic-settings<3.0.0,>=2.4.0 (from langchain_community)\n",
            "  Downloading pydantic_settings-2.9.1-py3-none-any.whl.metadata (3.8 kB)\n",
            "Collecting httpx-sse<1.0.0,>=0.4.0 (from langchain_community)\n",
            "  Downloading httpx_sse-0.4.0-py3-none-any.whl.metadata (9.0 kB)\n",
            "Requirement already satisfied: numpy>=1.26.2 in /usr/local/lib/python3.11/dist-packages (from langchain_community) (2.0.2)\n",
            "Collecting langgraph-checkpoint>=2.0.26 (from langgraph)\n",
            "  Downloading langgraph_checkpoint-2.0.26-py3-none-any.whl.metadata (4.6 kB)\n",
            "Collecting langgraph-prebuilt>=0.2.0 (from langgraph)\n",
            "  Downloading langgraph_prebuilt-0.2.2-py3-none-any.whl.metadata (4.5 kB)\n",
            "Collecting langgraph-sdk>=0.1.42 (from langgraph)\n",
            "  Downloading langgraph_sdk-0.1.70-py3-none-any.whl.metadata (1.5 kB)\n",
            "Requirement already satisfied: xxhash>=3.5.0 in /usr/local/lib/python3.11/dist-packages (from langgraph) (3.5.0)\n",
            "Requirement already satisfied: aiohappyeyeballs>=2.3.0 in /usr/local/lib/python3.11/dist-packages (from aiohttp<4.0.0,>=3.8.3->langchain_community) (2.6.1)\n",
            "Requirement already satisfied: aiosignal>=1.1.2 in /usr/local/lib/python3.11/dist-packages (from aiohttp<4.0.0,>=3.8.3->langchain_community) (1.3.2)\n",
            "Requirement already satisfied: attrs>=17.3.0 in /usr/local/lib/python3.11/dist-packages (from aiohttp<4.0.0,>=3.8.3->langchain_community) (25.3.0)\n",
            "Requirement already satisfied: frozenlist>=1.1.1 in /usr/local/lib/python3.11/dist-packages (from aiohttp<4.0.0,>=3.8.3->langchain_community) (1.6.0)\n",
            "Requirement already satisfied: multidict<7.0,>=4.5 in /usr/local/lib/python3.11/dist-packages (from aiohttp<4.0.0,>=3.8.3->langchain_community) (6.4.4)\n",
            "Requirement already satisfied: propcache>=0.2.0 in /usr/local/lib/python3.11/dist-packages (from aiohttp<4.0.0,>=3.8.3->langchain_community) (0.3.1)\n",
            "Requirement already satisfied: yarl<2.0,>=1.17.0 in /usr/local/lib/python3.11/dist-packages (from aiohttp<4.0.0,>=3.8.3->langchain_community) (1.20.0)\n",
            "Collecting marshmallow<4.0.0,>=3.18.0 (from dataclasses-json<0.7,>=0.5.7->langchain_community)\n",
            "  Downloading marshmallow-3.26.1-py3-none-any.whl.metadata (7.3 kB)\n",
            "Collecting typing-inspect<1,>=0.4.0 (from dataclasses-json<0.7,>=0.5.7->langchain_community)\n",
            "  Downloading typing_inspect-0.9.0-py3-none-any.whl.metadata (1.5 kB)\n",
            "Requirement already satisfied: anyio<5,>=3.5.0 in /usr/local/lib/python3.11/dist-packages (from groq<1,>=0.4.1->langchain_groq) (4.9.0)\n",
            "Requirement already satisfied: distro<2,>=1.7.0 in /usr/local/lib/python3.11/dist-packages (from groq<1,>=0.4.1->langchain_groq) (1.9.0)\n",
            "Requirement already satisfied: httpx<1,>=0.23.0 in /usr/local/lib/python3.11/dist-packages (from groq<1,>=0.4.1->langchain_groq) (0.28.1)\n",
            "Requirement already satisfied: sniffio in /usr/local/lib/python3.11/dist-packages (from groq<1,>=0.4.1->langchain_groq) (1.3.1)\n",
            "Requirement already satisfied: jsonpointer>=1.9 in /usr/local/lib/python3.11/dist-packages (from jsonpatch<2.0,>=1.33->langchain_core) (3.0.0)\n",
            "Collecting ormsgpack<2.0.0,>=1.8.0 (from langgraph-checkpoint>=2.0.26->langgraph)\n",
            "  Downloading ormsgpack-1.10.0-cp311-cp311-manylinux_2_17_x86_64.manylinux2014_x86_64.whl.metadata (43 kB)\n",
            "\u001b[2K     \u001b[90m━━━━━━━━━━━━━━━━━━━━━━━━━━━━━━━━━━━━━━━━\u001b[0m \u001b[32m43.7/43.7 kB\u001b[0m \u001b[31m1.9 MB/s\u001b[0m eta \u001b[36m0:00:00\u001b[0m\n",
            "\u001b[?25hRequirement already satisfied: orjson>=3.10.1 in /usr/local/lib/python3.11/dist-packages (from langgraph-sdk>=0.1.42->langgraph) (3.10.18)\n",
            "Requirement already satisfied: requests-toolbelt<2.0.0,>=1.0.0 in /usr/local/lib/python3.11/dist-packages (from langsmith<0.4,>=0.1.17->langchain) (1.0.0)\n",
            "Requirement already satisfied: zstandard<0.24.0,>=0.23.0 in /usr/local/lib/python3.11/dist-packages (from langsmith<0.4,>=0.1.17->langchain) (0.23.0)\n",
            "Requirement already satisfied: annotated-types>=0.6.0 in /usr/local/lib/python3.11/dist-packages (from pydantic<3.0.0,>=2.7.4->langchain) (0.7.0)\n",
            "Requirement already satisfied: pydantic-core==2.33.2 in /usr/local/lib/python3.11/dist-packages (from pydantic<3.0.0,>=2.7.4->langchain) (2.33.2)\n",
            "Requirement already satisfied: typing-inspection>=0.4.0 in /usr/local/lib/python3.11/dist-packages (from pydantic<3.0.0,>=2.7.4->langchain) (0.4.1)\n",
            "Collecting python-dotenv>=0.21.0 (from pydantic-settings<3.0.0,>=2.4.0->langchain_community)\n",
            "  Downloading python_dotenv-1.1.0-py3-none-any.whl.metadata (24 kB)\n",
            "Requirement already satisfied: charset-normalizer<4,>=2 in /usr/local/lib/python3.11/dist-packages (from requests<3,>=2->langchain) (3.4.2)\n",
            "Requirement already satisfied: idna<4,>=2.5 in /usr/local/lib/python3.11/dist-packages (from requests<3,>=2->langchain) (3.10)\n",
            "Requirement already satisfied: urllib3<3,>=1.21.1 in /usr/local/lib/python3.11/dist-packages (from requests<3,>=2->langchain) (2.4.0)\n",
            "Requirement already satisfied: certifi>=2017.4.17 in /usr/local/lib/python3.11/dist-packages (from requests<3,>=2->langchain) (2025.4.26)\n",
            "Requirement already satisfied: greenlet>=1 in /usr/local/lib/python3.11/dist-packages (from SQLAlchemy<3,>=1.4->langchain) (3.2.2)\n",
            "Requirement already satisfied: httpcore==1.* in /usr/local/lib/python3.11/dist-packages (from httpx<1,>=0.23.0->groq<1,>=0.4.1->langchain_groq) (1.0.9)\n",
            "Requirement already satisfied: h11>=0.16 in /usr/local/lib/python3.11/dist-packages (from httpcore==1.*->httpx<1,>=0.23.0->groq<1,>=0.4.1->langchain_groq) (0.16.0)\n",
            "Collecting mypy-extensions>=0.3.0 (from typing-inspect<1,>=0.4.0->dataclasses-json<0.7,>=0.5.7->langchain_community)\n",
            "  Downloading mypy_extensions-1.1.0-py3-none-any.whl.metadata (1.1 kB)\n",
            "Downloading langchain_groq-0.3.2-py3-none-any.whl (15 kB)\n",
            "Downloading langchain_community-0.3.24-py3-none-any.whl (2.5 MB)\n",
            "\u001b[2K   \u001b[90m━━━━━━━━━━━━━━━━━━━━━━━━━━━━━━━━━━━━━━━━\u001b[0m \u001b[32m2.5/2.5 MB\u001b[0m \u001b[31m39.9 MB/s\u001b[0m eta \u001b[36m0:00:00\u001b[0m\n",
            "\u001b[?25hDownloading langgraph-0.4.8-py3-none-any.whl (152 kB)\n",
            "\u001b[2K   \u001b[90m━━━━━━━━━━━━━━━━━━━━━━━━━━━━━━━━━━━━━━━━\u001b[0m \u001b[32m152.4/152.4 kB\u001b[0m \u001b[31m11.1 MB/s\u001b[0m eta \u001b[36m0:00:00\u001b[0m\n",
            "\u001b[?25hDownloading dataclasses_json-0.6.7-py3-none-any.whl (28 kB)\n",
            "Downloading groq-0.26.0-py3-none-any.whl (129 kB)\n",
            "\u001b[2K   \u001b[90m━━━━━━━━━━━━━━━━━━━━━━━━━━━━━━━━━━━━━━━━\u001b[0m \u001b[32m129.6/129.6 kB\u001b[0m \u001b[31m8.2 MB/s\u001b[0m eta \u001b[36m0:00:00\u001b[0m\n",
            "\u001b[?25hDownloading httpx_sse-0.4.0-py3-none-any.whl (7.8 kB)\n",
            "Downloading langgraph_checkpoint-2.0.26-py3-none-any.whl (44 kB)\n",
            "\u001b[2K   \u001b[90m━━━━━━━━━━━━━━━━━━━━━━━━━━━━━━━━━━━━━━━━\u001b[0m \u001b[32m44.2/44.2 kB\u001b[0m \u001b[31m2.0 MB/s\u001b[0m eta \u001b[36m0:00:00\u001b[0m\n",
            "\u001b[?25hDownloading langgraph_prebuilt-0.2.2-py3-none-any.whl (23 kB)\n",
            "Downloading langgraph_sdk-0.1.70-py3-none-any.whl (49 kB)\n",
            "\u001b[2K   \u001b[90m━━━━━━━━━━━━━━━━━━━━━━━━━━━━━━━━━━━━━━━━\u001b[0m \u001b[32m50.0/50.0 kB\u001b[0m \u001b[31m2.9 MB/s\u001b[0m eta \u001b[36m0:00:00\u001b[0m\n",
            "\u001b[?25hDownloading pydantic_settings-2.9.1-py3-none-any.whl (44 kB)\n",
            "\u001b[2K   \u001b[90m━━━━━━━━━━━━━━━━━━━━━━━━━━━━━━━━━━━━━━━━\u001b[0m \u001b[32m44.4/44.4 kB\u001b[0m \u001b[31m2.0 MB/s\u001b[0m eta \u001b[36m0:00:00\u001b[0m\n",
            "\u001b[?25hDownloading marshmallow-3.26.1-py3-none-any.whl (50 kB)\n",
            "\u001b[2K   \u001b[90m━━━━━━━━━━━━━━━━━━━━━━━━━━━━━━━━━━━━━━━━\u001b[0m \u001b[32m50.9/50.9 kB\u001b[0m \u001b[31m2.1 MB/s\u001b[0m eta \u001b[36m0:00:00\u001b[0m\n",
            "\u001b[?25hDownloading ormsgpack-1.10.0-cp311-cp311-manylinux_2_17_x86_64.manylinux2014_x86_64.whl (216 kB)\n",
            "\u001b[2K   \u001b[90m━━━━━━━━━━━━━━━━━━━━━━━━━━━━━━━━━━━━━━━━\u001b[0m \u001b[32m216.5/216.5 kB\u001b[0m \u001b[31m17.0 MB/s\u001b[0m eta \u001b[36m0:00:00\u001b[0m\n",
            "\u001b[?25hDownloading python_dotenv-1.1.0-py3-none-any.whl (20 kB)\n",
            "Downloading typing_inspect-0.9.0-py3-none-any.whl (8.8 kB)\n",
            "Downloading mypy_extensions-1.1.0-py3-none-any.whl (5.0 kB)\n",
            "Installing collected packages: python-dotenv, ormsgpack, mypy-extensions, marshmallow, httpx-sse, typing-inspect, pydantic-settings, langgraph-sdk, groq, dataclasses-json, langgraph-checkpoint, langchain_groq, langgraph-prebuilt, langgraph, langchain_community\n",
            "Successfully installed dataclasses-json-0.6.7 groq-0.26.0 httpx-sse-0.4.0 langchain_community-0.3.24 langchain_groq-0.3.2 langgraph-0.4.8 langgraph-checkpoint-2.0.26 langgraph-prebuilt-0.2.2 langgraph-sdk-0.1.70 marshmallow-3.26.1 mypy-extensions-1.1.0 ormsgpack-1.10.0 pydantic-settings-2.9.1 python-dotenv-1.1.0 typing-inspect-0.9.0\n"
          ]
        }
      ],
      "source": [
        "!pip install langchain langchain_core langchain_groq langchain_community langchain langgraph"
      ]
    },
    {
      "cell_type": "code",
      "execution_count": 2,
      "metadata": {
        "id": "WggnGAnbu5u0"
      },
      "outputs": [],
      "source": [
        "import os\n",
        "from typing import TypedDict, Annotated, List\n",
        "from langgraph.graph import StateGraph, END\n",
        "from langchain_core.messages import HumanMessage, AIMessage\n",
        "from langchain_core.prompts import ChatPromptTemplate\n",
        "from langchain_core.runnables.graph import MermaidDrawMethod\n",
        "from IPython.display import display, Image"
      ]
    },
    {
      "cell_type": "markdown",
      "metadata": {
        "id": "0B8esuvuvqkY"
      },
      "source": [
        "Define Agent"
      ]
    },
    {
      "cell_type": "code",
      "execution_count": 3,
      "metadata": {
        "id": "Lm8Pv-dfvMnF"
      },
      "outputs": [],
      "source": [
        "class PlannerState(TypedDict):\n",
        "  messages : Annotated[List[HumanMessage | AIMessage], \"the messages in the conversation\"]\n",
        "  city: str\n",
        "  interests: List[str]\n",
        "  itinerary: str"
      ]
    },
    {
      "cell_type": "code",
      "execution_count": null,
      "metadata": {
        "colab": {
          "base_uri": "https://localhost:8080/",
          "height": 122
        },
        "id": "4hVYzzwq3D9H",
        "outputId": "ba9b6c2f-7c0a-400a-861c-61183af4fc03"
      },
      "outputs": [
        {
          "data": {
            "application/vnd.google.colaboratory.intrinsic+json": {
              "type": "string"
            },
            "text/plain": [
              "'A Multi-Agent System (MAS) is a system composed of multiple autonomous agents that interact with each other and their environment to achieve common or individual goals. In the context of Artificial Intelligence (AI), a Multi-AI Agent refers to a system that consists of multiple AI agents that work together to solve complex problems, make decisions, or perform tasks.\\n\\nCharacteristics of Multi-AI Agents:\\n\\n1. **Autonomy**: Each AI agent has its own autonomy to make decisions and take actions.\\n2. **Interoperability**: AI agents can communicate and interact with each other.\\n3. **Distributed Problem-Solving**: AI agents work together to solve complex problems that are difficult or impossible for a single agent to solve.\\n4. **Decentralized Decision-Making**: Decision-making is distributed among the AI agents, and each agent contributes to the overall decision-making process.\\n\\nTypes of Multi-AI Agents:\\n\\n1. **Cooperative Agents**: Agents work together to achieve a common goal.\\n2. **Competitive Agents**: Agents compete with each other to achieve individual goals.\\n3. **Hybrid Agents**: Agents exhibit both cooperative and competitive behaviors.\\n\\nApplications of Multi-AI Agents:\\n\\n1. **Robotics**: Multi-robot systems that work together to perform tasks such as search and rescue, or assembly.\\n2. **Smart Grids**: Multiple AI agents manage energy distribution, consumption, and generation to optimize energy efficiency.\\n3. **Financial Markets**: AI agents trade and make investment decisions to maximize returns.\\n4. **Healthcare**: AI agents analyze medical data, diagnose diseases, and develop personalized treatment plans.\\n5. **Transportation Systems**: AI agents manage traffic flow, optimize routes, and reduce congestion.\\n\\nBenefits of Multi-AI Agents:\\n\\n1. **Improved Problem-Solving**: Multiple AI agents can solve complex problems more effectively than a single agent.\\n2. **Increased Flexibility**: Multi-AI agents can adapt to changing environments and situations.\\n3. **Enhanced Robustness**: The system can continue to function even if one or more agents fail.\\n4. **Better Decision-Making**: Multi-AI agents can make more informed decisions by considering multiple perspectives.\\n\\nChallenges of Multi-AI Agents:\\n\\n1. **Communication**: AI agents must be able to communicate effectively with each other.\\n2. **Coordination**: AI agents must be able to coordinate their actions to achieve common goals.\\n3. **Conflict Resolution**: AI agents may have conflicting goals or priorities, which must be resolved.\\n4. **Scalability**: Multi-AI agent systems can be difficult to scale up to large numbers of agents.\\n\\nIn summary, Multi-AI Agents are systems composed of multiple autonomous AI agents that work together to achieve common or individual goals. They have the potential to solve complex problems, make better decisions, and improve overall performance in various applications. However, they also present challenges such as communication, coordination, conflict resolution, and scalability.'"
            ]
          },
          "execution_count": 4,
          "metadata": {},
          "output_type": "execute_result"
        }
      ],
      "source": [
        "from langchain_groq import ChatGroq\n",
        "llm = ChatGroq(\n",
        "    temperature = 0,\n",
        "    groq_api_key = #YOUR_GROQ_API\",\n",
        "    model_name = #\"llama-3.3-70b-versatile\"\n",
        ")\n",
        "result = llm.invoke(\"What is Multi AI Agent\")\n",
        "result.content"
      ]
    },
    {
      "cell_type": "code",
      "execution_count": 5,
      "metadata": {
        "id": "EH9ZVvt29r3j"
      },
      "outputs": [],
      "source": [
        "from langchain.schema import SystemMessage, HumanMessage\n",
        "from langchain.prompts import ChatPromptTemplate"
      ]
    },
    {
      "cell_type": "code",
      "execution_count": 6,
      "metadata": {
        "id": "gKTUzaek6ZAX"
      },
      "outputs": [],
      "source": [
        "itinerary_prompt = ChatPromptTemplate.from_messages([\n",
        "    (\"system\", \"You are a helpful travel assistant. Create a day trip itinerary for {city} based on the user's interests: {interests}. Provide a brief, bulleted itinerary.\"),\n",
        "    (\"human\", \"Create an itinerary for my day trip.\")\n",
        "])"
      ]
    },
    {
      "cell_type": "markdown",
      "metadata": {
        "id": "6qnKdrvI-ACk"
      },
      "source": [
        "Define Agent Function"
      ]
    },
    {
      "cell_type": "code",
      "execution_count": 7,
      "metadata": {
        "id": "QHphzr_q8LaP"
      },
      "outputs": [],
      "source": [
        "def input_city(state: PlannerState) -> PlannerState:\n",
        "         print(\"Please enter the city you want to visit for your day trip: \")\n",
        "         user_message = input(\"Your Input: \")\n",
        "         return {\n",
        "              **state,\n",
        "             \"city\": user_message,\n",
        "             \"messages\": state['messages'] + [HumanMessage(content=user_message)]\n",
        "         }\n",
        "\n",
        "def input_interest(state: PlannerState) -> PlannerState:\n",
        "        print(f\"Please enter your interest for the trip to : {state['city']} (comma-separted): \")\n",
        "        user_message = input(\"Your Input: \")\n",
        "        return {\n",
        "            **state,\n",
        "            \"interests\": [interest.strip() for interest in user_message.split(\",\")],\n",
        "            \"messages\": state['messages'] + [HumanMessage(content=user_message)]\n",
        "          }\n",
        "def create_itinerary(state: PlannerState) -> PlannerState:\n",
        "        print(f\"Creating an itinerary for {state['city']} based on interests : {', '.join(state['interests'])}\")\n",
        "        response = llm.invoke(itinerary_prompt.format_messages(city = state['city'], interests = ','.join(state['interests'])))\n",
        "        print(\"\\nFinal Itinerary: \")\n",
        "        print(response.content)\n",
        "        return {\n",
        "            **state,\n",
        "            \"messages\": state['messages'] + [AIMessage(content=response.content)],\n",
        "            \"itinerary\" : response.content,\n",
        "         }"
      ]
    },
    {
      "cell_type": "code",
      "execution_count": 30,
      "metadata": {
        "id": "suYrnEtIlqo9"
      },
      "outputs": [],
      "source": [
        "def get_feedback(state):\n",
        "\n",
        "    state[\"feedback\"] = \"not_collected\"\n",
        "    return state\n",
        "\n"
      ]
    },
    {
      "cell_type": "markdown",
      "metadata": {
        "id": "w1Wiy3Q2BkzK"
      },
      "source": [
        "Create and compile the graph\n"
      ]
    },
    {
      "cell_type": "code",
      "execution_count": 31,
      "metadata": {
        "id": "RrdqC1RCBa7L"
      },
      "outputs": [],
      "source": [
        "workflow = StateGraph(PlannerState)\n",
        "\n",
        "workflow.add_node(\"input_city\", input_city)\n",
        "workflow.add_node(\"input_interest\", input_interest)\n",
        "workflow.add_node(\"create_itinerary\", create_itinerary)\n",
        "workflow.add_node(\"get_feedback\", get_feedback)  # ← Now this will work\n",
        "\n",
        "workflow.set_entry_point(\"input_city\")\n",
        "\n",
        "workflow.add_edge(\"input_city\", \"input_interest\")\n",
        "workflow.add_edge(\"input_interest\", \"create_itinerary\")\n",
        "workflow.add_edge(\"create_itinerary\", \"get_feedback\")\n",
        "workflow.add_edge(\"get_feedback\", END)\n",
        "\n",
        "app = workflow.compile()\n"
      ]
    },
    {
      "cell_type": "markdown",
      "metadata": {
        "id": "SVPCvvl2D3GR"
      },
      "source": [
        "Display the graph structure"
      ]
    },
    {
      "cell_type": "code",
      "execution_count": 32,
      "metadata": {
        "colab": {
          "base_uri": "https://localhost:8080/",
          "height": 548
        },
        "id": "lBWr82v8DyWe",
        "outputId": "246131db-cf37-452c-d9d4-3530a5efd450"
      },
      "outputs": [
        {
          "data": {
            "image/png": "[encoded data removed]",
            "text/plain": [
              "<IPython.core.display.Image object>"
            ]
          },
          "metadata": {},
          "output_type": "display_data"
        }
      ],
      "source": [
        " display(\n",
        "        Image(\n",
        "           app.get_graph().draw_mermaid_png(\n",
        "           draw_method = MermaidDrawMethod.API\n",
        "                )\n",
        "            )\n",
        " )"
      ]
    },
    {
      "cell_type": "markdown",
      "metadata": {
        "id": "hZ6JX9H7Fdnp"
      },
      "source": [
        "Define the function that runs the graph"
      ]
    },
    {
      "cell_type": "code",
      "execution_count": 33,
      "metadata": {
        "id": "TwNhtj_0FJ5L"
      },
      "outputs": [],
      "source": [
        " def travel_planner(user_request: str):\n",
        "        print(f\"Initial Request: {user_request}\\n\")\n",
        "        state = {\n",
        "            \"messages\": [HumanMessage(content=user_request)],\n",
        "            \"city\": \"\",\n",
        "            \"interests\": [],\n",
        "            \"itinerary\": \"\",\n",
        "          }\n",
        "        for output in app.stream(state):\n",
        "            pass"
      ]
    },
    {
      "cell_type": "code",
      "execution_count": 34,
      "metadata": {
        "colab": {
          "base_uri": "https://localhost:8080/"
        },
        "id": "_HCN0_TsK47q",
        "outputId": "1768a66d-d15d-44a9-f053-5a26a9e66434"
      },
      "outputs": [
        {
          "name": "stdout",
          "output_type": "stream",
          "text": [
            "Initial Request: I want to plan a day trip\n",
            "\n",
            "Please enter the city you want to visit for your day trip: \n",
            "Your Input: roma\n",
            "Please enter your interest for the trip to : roma (comma-separted): \n",
            "Your Input: history\n",
            "Creating an itinerary for roma based on interests : history\n",
            "\n",
            "Final Itinerary: \n",
            "For a history-focused day trip to Rome, consider the following itinerary:\n",
            "\n",
            "* 9:00 AM: Start at the Colosseum, one of Rome's most iconic ancient landmarks and a testament to the city's rich history.\n",
            "* 11:00 AM: Visit the Roman Forum, a sprawling archaeological site filled with ancient ruins and historical significance.\n",
            "* 1:00 PM: Take a break for lunch at a traditional Italian restaurant near the forum.\n",
            "* 2:30 PM: Explore the Pantheon, a magnificently preserved ancient temple with a rich history dating back to 126 AD.\n",
            "* 4:30 PM: End your day with a visit to the Vatican Museums, home to some of the world's most famous historical and artistic treasures, including works from ancient civilizations.\n",
            "\n",
            "This itinerary provides a glimpse into Rome's extensive history, from ancient ruins to preserved temples and world-class museums.\n"
          ]
        }
      ],
      "source": [
        " user_request = \"I want to plan a day trip\"\n",
        " travel_planner(user_request)"
      ]
    },
    {
      "cell_type": "code",
      "execution_count": 35,
      "metadata": {
        "colab": {
          "base_uri": "https://localhost:8080/"
        },
        "id": "eHZurGt8ULL-",
        "outputId": "4f9ad232-96a5-4da3-bf40-f2731effb169"
      },
      "outputs": [
        {
          "name": "stdout",
          "output_type": "stream",
          "text": [
            "Please provide feedback on the itinerary (e.g., too fast-paced, missing attractions, etc.):  fast-paced\n"
          ]
        }
      ],
      "source": [
        "feedback = input(\"Please provide feedback on the itinerary (e.g., too fast-paced, missing attractions, etc.): \")\n"
      ]
    },
    {
      "cell_type": "code",
      "execution_count": 36,
      "metadata": {
        "colab": {
          "base_uri": "https://localhost:8080/"
        },
        "id": "iBQEKCR9URpR",
        "outputId": "2b034b74-f71d-4235-86bb-4451251bb31f"
      },
      "outputs": [
        {
          "name": "stdout",
          "output_type": "stream",
          "text": [
            "Feedback sentiment: Sentiment(polarity=0.0, subjectivity=0.0)\n"
          ]
        }
      ],
      "source": [
        "from textblob import TextBlob\n",
        "sentiment = TextBlob(feedback).sentiment\n",
        "print(\"Feedback sentiment:\", sentiment)\n"
      ]
    },
    {
      "cell_type": "code",
      "execution_count": 37,
      "metadata": {
        "id": "ymEwC1_bUbc5"
      },
      "outputs": [],
      "source": [
        "prompt = f\"\"\"\n",
        "Based on the user's feedback: \"{feedback}\", please enhance or modify the previous itinerary.\n",
        "Make adjustments to better match user preferences and avoid past issues.\n",
        "\"\"\"\n"
      ]
    },
    {
      "cell_type": "code",
      "execution_count": 38,
      "metadata": {
        "id": "os48Yh-cUbVG"
      },
      "outputs": [],
      "source": [
        "with open(\"user_feedback_log.txt\", \"a\") as f:\n",
        "    f.write(feedback + \"\\n\")\n"
      ]
    },
    {
      "cell_type": "code",
      "execution_count": 39,
      "metadata": {
        "colab": {
          "base_uri": "https://localhost:8080/"
        },
        "id": "posCV8pX5vNL",
        "outputId": "2061f8b9-ad40-4810-d593-3be1309834f0"
      },
      "outputs": [
        {
          "name": "stdout",
          "output_type": "stream",
          "text": [
            "Requirement already satisfied: gradio in /usr/local/lib/python3.11/dist-packages (5.31.0)\n",
            "Requirement already satisfied: aiofiles<25.0,>=22.0 in /usr/local/lib/python3.11/dist-packages (from gradio) (24.1.0)\n",
            "Requirement already satisfied: anyio<5.0,>=3.0 in /usr/local/lib/python3.11/dist-packages (from gradio) (4.9.0)\n",
            "Requirement already satisfied: fastapi<1.0,>=0.115.2 in /usr/local/lib/python3.11/dist-packages (from gradio) (0.115.12)\n",
            "Requirement already satisfied: ffmpy in /usr/local/lib/python3.11/dist-packages (from gradio) (0.5.0)\n",
            "Requirement already satisfied: gradio-client==1.10.1 in /usr/local/lib/python3.11/dist-packages (from gradio) (1.10.1)\n",
            "Requirement already satisfied: groovy~=0.1 in /usr/local/lib/python3.11/dist-packages (from gradio) (0.1.2)\n",
            "Requirement already satisfied: httpx>=0.24.1 in /usr/local/lib/python3.11/dist-packages (from gradio) (0.28.1)\n",
            "Requirement already satisfied: huggingface-hub>=0.28.1 in /usr/local/lib/python3.11/dist-packages (from gradio) (0.32.2)\n",
            "Requirement already satisfied: jinja2<4.0 in /usr/local/lib/python3.11/dist-packages (from gradio) (3.1.6)\n",
            "Requirement already satisfied: markupsafe<4.0,>=2.0 in /usr/local/lib/python3.11/dist-packages (from gradio) (3.0.2)\n",
            "Requirement already satisfied: numpy<3.0,>=1.0 in /usr/local/lib/python3.11/dist-packages (from gradio) (2.0.2)\n",
            "Requirement already satisfied: orjson~=3.0 in /usr/local/lib/python3.11/dist-packages (from gradio) (3.10.18)\n",
            "Requirement already satisfied: packaging in /usr/local/lib/python3.11/dist-packages (from gradio) (24.2)\n",
            "Requirement already satisfied: pandas<3.0,>=1.0 in /usr/local/lib/python3.11/dist-packages (from gradio) (2.2.2)\n",
            "Requirement already satisfied: pillow<12.0,>=8.0 in /usr/local/lib/python3.11/dist-packages (from gradio) (11.2.1)\n",
            "Requirement already satisfied: pydantic<2.12,>=2.0 in /usr/local/lib/python3.11/dist-packages (from gradio) (2.11.5)\n",
            "Requirement already satisfied: pydub in /usr/local/lib/python3.11/dist-packages (from gradio) (0.25.1)\n",
            "Requirement already satisfied: python-multipart>=0.0.18 in /usr/local/lib/python3.11/dist-packages (from gradio) (0.0.20)\n",
            "Requirement already satisfied: pyyaml<7.0,>=5.0 in /usr/local/lib/python3.11/dist-packages (from gradio) (6.0.2)\n",
            "Requirement already satisfied: ruff>=0.9.3 in /usr/local/lib/python3.11/dist-packages (from gradio) (0.11.12)\n",
            "Requirement already satisfied: safehttpx<0.2.0,>=0.1.6 in /usr/local/lib/python3.11/dist-packages (from gradio) (0.1.6)\n",
            "Requirement already satisfied: semantic-version~=2.0 in /usr/local/lib/python3.11/dist-packages (from gradio) (2.10.0)\n",
            "Requirement already satisfied: starlette<1.0,>=0.40.0 in /usr/local/lib/python3.11/dist-packages (from gradio) (0.46.2)\n",
            "Requirement already satisfied: tomlkit<0.14.0,>=0.12.0 in /usr/local/lib/python3.11/dist-packages (from gradio) (0.13.2)\n",
            "Requirement already satisfied: typer<1.0,>=0.12 in /usr/local/lib/python3.11/dist-packages (from gradio) (0.16.0)\n",
            "Requirement already satisfied: typing-extensions~=4.0 in /usr/local/lib/python3.11/dist-packages (from gradio) (4.13.2)\n",
            "Requirement already satisfied: uvicorn>=0.14.0 in /usr/local/lib/python3.11/dist-packages (from gradio) (0.34.2)\n",
            "Requirement already satisfied: fsspec in /usr/local/lib/python3.11/dist-packages (from gradio-client==1.10.1->gradio) (2025.3.2)\n",
            "Requirement already satisfied: websockets<16.0,>=10.0 in /usr/local/lib/python3.11/dist-packages (from gradio-client==1.10.1->gradio) (15.0.1)\n",
            "Requirement already satisfied: idna>=2.8 in /usr/local/lib/python3.11/dist-packages (from anyio<5.0,>=3.0->gradio) (3.10)\n",
            "Requirement already satisfied: sniffio>=1.1 in /usr/local/lib/python3.11/dist-packages (from anyio<5.0,>=3.0->gradio) (1.3.1)\n",
            "Requirement already satisfied: certifi in /usr/local/lib/python3.11/dist-packages (from httpx>=0.24.1->gradio) (2025.4.26)\n",
            "Requirement already satisfied: httpcore==1.* in /usr/local/lib/python3.11/dist-packages (from httpx>=0.24.1->gradio) (1.0.9)\n",
            "Requirement already satisfied: h11>=0.16 in /usr/local/lib/python3.11/dist-packages (from httpcore==1.*->httpx>=0.24.1->gradio) (0.16.0)\n",
            "Requirement already satisfied: filelock in /usr/local/lib/python3.11/dist-packages (from huggingface-hub>=0.28.1->gradio) (3.18.0)\n",
            "Requirement already satisfied: requests in /usr/local/lib/python3.11/dist-packages (from huggingface-hub>=0.28.1->gradio) (2.32.3)\n",
            "Requirement already satisfied: tqdm>=4.42.1 in /usr/local/lib/python3.11/dist-packages (from huggingface-hub>=0.28.1->gradio) (4.67.1)\n",
            "Requirement already satisfied: hf-xet<2.0.0,>=1.1.2 in /usr/local/lib/python3.11/dist-packages (from huggingface-hub>=0.28.1->gradio) (1.1.2)\n",
            "Requirement already satisfied: python-dateutil>=2.8.2 in /usr/local/lib/python3.11/dist-packages (from pandas<3.0,>=1.0->gradio) (2.9.0.post0)\n",
            "Requirement already satisfied: pytz>=2020.1 in /usr/local/lib/python3.11/dist-packages (from pandas<3.0,>=1.0->gradio) (2025.2)\n",
            "Requirement already satisfied: tzdata>=2022.7 in /usr/local/lib/python3.11/dist-packages (from pandas<3.0,>=1.0->gradio) (2025.2)\n",
            "Requirement already satisfied: annotated-types>=0.6.0 in /usr/local/lib/python3.11/dist-packages (from pydantic<2.12,>=2.0->gradio) (0.7.0)\n",
            "Requirement already satisfied: pydantic-core==2.33.2 in /usr/local/lib/python3.11/dist-packages (from pydantic<2.12,>=2.0->gradio) (2.33.2)\n",
            "Requirement already satisfied: typing-inspection>=0.4.0 in /usr/local/lib/python3.11/dist-packages (from pydantic<2.12,>=2.0->gradio) (0.4.1)\n",
            "Requirement already satisfied: click>=8.0.0 in /usr/local/lib/python3.11/dist-packages (from typer<1.0,>=0.12->gradio) (8.2.1)\n",
            "Requirement already satisfied: shellingham>=1.3.0 in /usr/local/lib/python3.11/dist-packages (from typer<1.0,>=0.12->gradio) (1.5.4)\n",
            "Requirement already satisfied: rich>=10.11.0 in /usr/local/lib/python3.11/dist-packages (from typer<1.0,>=0.12->gradio) (13.9.4)\n",
            "Requirement already satisfied: six>=1.5 in /usr/local/lib/python3.11/dist-packages (from python-dateutil>=2.8.2->pandas<3.0,>=1.0->gradio) (1.17.0)\n",
            "Requirement already satisfied: markdown-it-py>=2.2.0 in /usr/local/lib/python3.11/dist-packages (from rich>=10.11.0->typer<1.0,>=0.12->gradio) (3.0.0)\n",
            "Requirement already satisfied: pygments<3.0.0,>=2.13.0 in /usr/local/lib/python3.11/dist-packages (from rich>=10.11.0->typer<1.0,>=0.12->gradio) (2.19.1)\n",
            "Requirement already satisfied: charset-normalizer<4,>=2 in /usr/local/lib/python3.11/dist-packages (from requests->huggingface-hub>=0.28.1->gradio) (3.4.2)\n",
            "Requirement already satisfied: urllib3<3,>=1.21.1 in /usr/local/lib/python3.11/dist-packages (from requests->huggingface-hub>=0.28.1->gradio) (2.4.0)\n",
            "Requirement already satisfied: mdurl~=0.1 in /usr/local/lib/python3.11/dist-packages (from markdown-it-py>=2.2.0->rich>=10.11.0->typer<1.0,>=0.12->gradio) (0.1.2)\n"
          ]
        }
      ],
      "source": [
        "!pip install gradio"
      ]
    },
    {
      "cell_type": "code",
      "execution_count": 41,
      "metadata": {
        "colab": {
          "base_uri": "https://localhost:8080/",
          "height": 646
        },
        "id": "RUQH--Fm53zf",
        "outputId": "5754965a-771a-4caa-d46a-b8358f7b93d5"
      },
      "outputs": [
        {
          "name": "stdout",
          "output_type": "stream",
          "text": [
            "It looks like you are running Gradio on a hosted a Jupyter notebook. For the Gradio app to work, sharing must be enabled. Automatically setting `share=True` (you can turn this off by setting `share=False` in `launch()` explicitly).\n",
            "\n",
            "Colab notebook detected. To show errors in colab notebook, set debug=True in launch()\n",
            "* Running on public URL: https://2956d6af6cc8e3907d.gradio.live\n",
            "\n",
            "This share link expires in 1 week. For free permanent hosting and GPU upgrades, run `gradio deploy` from the terminal in the working directory to deploy to Hugging Face Spaces (https://huggingface.co/spaces)\n"
          ]
        },
        {
          "data": {
            "text/html": [
              "<div><iframe src=\"https://2956d6af6cc8e3907d.gradio.live\" width=\"100%\" height=\"500\" allow=\"autoplay; camera; microphone; clipboard-read; clipboard-write;\" frameborder=\"0\" allowfullscreen></iframe></div>"
            ],
            "text/plain": [
              "<IPython.core.display.HTML object>"
            ]
          },
          "metadata": {},
          "output_type": "display_data"
        },
        {
          "data": {
            "text/plain": []
          },
          "execution_count": 41,
          "metadata": {},
          "output_type": "execute_result"
        }
      ],
      "source": [
        "import gradio as gr\n",
        "from typing import TypedDict, Annotated, List\n",
        "from langgraph.graph import StateGraph, END\n",
        "from langchain_core.messages import HumanMessage, AIMessage\n",
        "from langchain_core.prompts import ChatPromptTemplate\n",
        "from langchain_groq import ChatGroq\n",
        "\n",
        "# Define the LLM\n",
        "llm = ChatGroq(\n",
        "    temperature=0,\n",
        "    groq_api_key=\"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\",\n",
        "    model_name=\"llama-3.3-70b-versatile\"\n",
        ")\n",
        "\n",
        "# Prompt template for itinerary generation\n",
        "itinerary_prompt = ChatPromptTemplate.from_messages([\n",
        "    (\"system\", \"You are a helpful travel assistant. Create a day trip itinerary for {city} based on the user's interests: {interests}. Provide a brief, bulleted itinerary.\"),\n",
        "    (\"human\", \"Create an itinerary for my day trip.\"),\n",
        "])\n",
        "\n",
        "# Prompt template for feedback enhancement\n",
        "feedback_prompt = ChatPromptTemplate.from_messages([\n",
        "    (\"system\", \"You are a helpful travel assistant. Improve the following itinerary based on this feedback: {feedback}.\"),\n",
        "    (\"human\", \"{itinerary}\")\n",
        "])\n",
        "\n",
        "# State representation\n",
        "class PlannerState(TypedDict):\n",
        "    messages: Annotated[List[HumanMessage | AIMessage], \"The messages in the conversation\"]\n",
        "    city: str\n",
        "    interests: List[str]\n",
        "    itinerary: str\n",
        "\n",
        "# Step 1: Input City\n",
        "def input_city(city: str, state: PlannerState) -> PlannerState:\n",
        "    return {\n",
        "        **state,\n",
        "        \"city\": city,\n",
        "        \"messages\": state['messages'] + [HumanMessage(content=city)],\n",
        "    }\n",
        "\n",
        "# Step 2: Input Interests\n",
        "def input_interests(interests: str, state: PlannerState) -> PlannerState:\n",
        "    return {\n",
        "        **state,\n",
        "        \"interests\": [interest.strip() for interest in interests.split(',')],\n",
        "        \"messages\": state['messages'] + [HumanMessage(content=interests)]\n",
        "    }\n",
        "\n",
        "# Step 3: Create Initial Itinerary\n",
        "def create_itinerary(state: PlannerState) -> str:\n",
        "    response = llm.invoke(itinerary_prompt.format_messages(city=state['city'], interests=\", \".join(state['interests'])))\n",
        "    state[\"itinerary\"] = response.content\n",
        "    state[\"messages\"] += [AIMessage(content=response.content)]\n",
        "    return response.content\n",
        "\n",
        "# Step 4: Update Itinerary with Feedback\n",
        "def improve_itinerary(itinerary: str, feedback: str) -> str:\n",
        "    improved = llm.invoke(feedback_prompt.format_messages(itinerary=itinerary, feedback=feedback))\n",
        "    return improved.content\n",
        "\n",
        "# Gradio handler function\n",
        "def travel_planner(city: str, interests: str, feedback: str = \"\"):\n",
        "    state = {\n",
        "        \"messages\": [],\n",
        "        \"city\": \"\",\n",
        "        \"interests\": [],\n",
        "        \"itinerary\": \"\",\n",
        "    }\n",
        "\n",
        "    # Create itinerary\n",
        "    state = input_city(city, state)\n",
        "    state = input_interests(interests, state)\n",
        "    itinerary = create_itinerary(state)\n",
        "\n",
        "    # Apply feedback if provided\n",
        "    if feedback.strip():\n",
        "        itinerary = improve_itinerary(itinerary, feedback)\n",
        "\n",
        "    return itinerary\n",
        "\n",
        "# Gradio Interface\n",
        "interface = gr.Interface(\n",
        "    fn=travel_planner,\n",
        "    theme='Yntec/HaleyCH_Theme_Orange_Green',\n",
        "    inputs=[\n",
        "        gr.Textbox(label=\"Enter the city for your day trip\"),\n",
        "        gr.Textbox(label=\"Enter your interests (comma-separated)\"),\n",
        "        gr.Textbox(label=\"(Optional) Feedback to improve the itinerary\"),\n",
        "    ],\n",
        "    outputs=gr.Textbox(label=\"Final Itinerary\"),\n",
        "    title=\"Travel Itinerary Planner with Feedback\",\n",
        "    description=\"Enter a city and your interests. Provide feedback to regenerate an improved itinerary.\"\n",
        ")\n",
        "\n",
        "interface.launch()\n"
      ]
    },
    {
      "cell_type": "code",
      "execution_count": null,
      "metadata": {
        "id": "ae5DxvBNTh8x"
      },
      "outputs": [],
      "source": []
    }
  ],
  "metadata": {
    "colab": {
      "provenance": []
    },
    "kernelspec": {
      "display_name": "Python 3",
      "name": "python3"
    },
    "language_info": {
      "codemirror_mode": {
        "name": "ipython",
        "version": 3
      },
      "file_extension": ".py",
      "mimetype": "text/x-python",
      "name": "python",
      "nbconvert_exporter": "python",
      "pygments_lexer": "ipython3",
      "version": "3.10.3"
    }
  },
  "nbformat": 4,
  "nbformat_minor": 0
}
